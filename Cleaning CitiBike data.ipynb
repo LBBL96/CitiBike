{
 "cells": [
  {
   "cell_type": "code",
   "execution_count": 49,
   "metadata": {},
   "outputs": [],
   "source": [
    "import pandas as pd\n",
    "import numpy as np"
   ]
  },
  {
   "cell_type": "code",
   "execution_count": 2,
   "metadata": {},
   "outputs": [],
   "source": [
    "infile = \"../../../Downloads/201910-citibike-tripdata.csv\"\n",
    "df = pd.read_csv(infile)"
   ]
  },
  {
   "cell_type": "code",
   "execution_count": 3,
   "metadata": {},
   "outputs": [
    {
     "data": {
      "text/html": [
       "<div>\n",
       "<style scoped>\n",
       "    .dataframe tbody tr th:only-of-type {\n",
       "        vertical-align: middle;\n",
       "    }\n",
       "\n",
       "    .dataframe tbody tr th {\n",
       "        vertical-align: top;\n",
       "    }\n",
       "\n",
       "    .dataframe thead th {\n",
       "        text-align: right;\n",
       "    }\n",
       "</style>\n",
       "<table border=\"1\" class=\"dataframe\">\n",
       "  <thead>\n",
       "    <tr style=\"text-align: right;\">\n",
       "      <th></th>\n",
       "      <th>tripduration</th>\n",
       "      <th>start station id</th>\n",
       "      <th>start station latitude</th>\n",
       "      <th>start station longitude</th>\n",
       "      <th>end station id</th>\n",
       "      <th>end station latitude</th>\n",
       "      <th>end station longitude</th>\n",
       "      <th>bikeid</th>\n",
       "      <th>birth year</th>\n",
       "      <th>gender</th>\n",
       "    </tr>\n",
       "  </thead>\n",
       "  <tbody>\n",
       "    <tr>\n",
       "      <th>count</th>\n",
       "      <td>2.092573e+06</td>\n",
       "      <td>2.092573e+06</td>\n",
       "      <td>2.092573e+06</td>\n",
       "      <td>2.092573e+06</td>\n",
       "      <td>2.092573e+06</td>\n",
       "      <td>2.092573e+06</td>\n",
       "      <td>2.092573e+06</td>\n",
       "      <td>2.092573e+06</td>\n",
       "      <td>2.092573e+06</td>\n",
       "      <td>2.092573e+06</td>\n",
       "    </tr>\n",
       "    <tr>\n",
       "      <th>mean</th>\n",
       "      <td>9.145827e+02</td>\n",
       "      <td>1.653142e+03</td>\n",
       "      <td>4.073810e+01</td>\n",
       "      <td>-7.398199e+01</td>\n",
       "      <td>1.640030e+03</td>\n",
       "      <td>4.073765e+01</td>\n",
       "      <td>-7.398229e+01</td>\n",
       "      <td>3.168730e+04</td>\n",
       "      <td>1.980680e+03</td>\n",
       "      <td>1.171635e+00</td>\n",
       "    </tr>\n",
       "    <tr>\n",
       "      <th>std</th>\n",
       "      <td>7.479508e+03</td>\n",
       "      <td>1.484445e+03</td>\n",
       "      <td>2.985665e-02</td>\n",
       "      <td>1.968598e-02</td>\n",
       "      <td>1.483445e+03</td>\n",
       "      <td>2.965020e-02</td>\n",
       "      <td>1.980151e-02</td>\n",
       "      <td>8.305669e+03</td>\n",
       "      <td>1.219031e+01</td>\n",
       "      <td>5.376945e-01</td>\n",
       "    </tr>\n",
       "    <tr>\n",
       "      <th>min</th>\n",
       "      <td>6.100000e+01</td>\n",
       "      <td>7.200000e+01</td>\n",
       "      <td>4.065540e+01</td>\n",
       "      <td>-7.402535e+01</td>\n",
       "      <td>7.200000e+01</td>\n",
       "      <td>4.065540e+01</td>\n",
       "      <td>-7.406250e+01</td>\n",
       "      <td>1.452900e+04</td>\n",
       "      <td>1.874000e+03</td>\n",
       "      <td>0.000000e+00</td>\n",
       "    </tr>\n",
       "    <tr>\n",
       "      <th>25%</th>\n",
       "      <td>3.700000e+02</td>\n",
       "      <td>3.790000e+02</td>\n",
       "      <td>4.071894e+01</td>\n",
       "      <td>-7.399490e+01</td>\n",
       "      <td>3.770000e+02</td>\n",
       "      <td>4.071882e+01</td>\n",
       "      <td>-7.399530e+01</td>\n",
       "      <td>2.641900e+04</td>\n",
       "      <td>1.970000e+03</td>\n",
       "      <td>1.000000e+00</td>\n",
       "    </tr>\n",
       "    <tr>\n",
       "      <th>50%</th>\n",
       "      <td>6.170000e+02</td>\n",
       "      <td>5.090000e+02</td>\n",
       "      <td>4.073913e+01</td>\n",
       "      <td>-7.398518e+01</td>\n",
       "      <td>5.070000e+02</td>\n",
       "      <td>4.073827e+01</td>\n",
       "      <td>-7.398602e+01</td>\n",
       "      <td>3.278400e+04</td>\n",
       "      <td>1.983000e+03</td>\n",
       "      <td>1.000000e+00</td>\n",
       "    </tr>\n",
       "    <tr>\n",
       "      <th>75%</th>\n",
       "      <td>1.054000e+03</td>\n",
       "      <td>3.300000e+03</td>\n",
       "      <td>4.075757e+01</td>\n",
       "      <td>-7.397188e+01</td>\n",
       "      <td>3.298000e+03</td>\n",
       "      <td>4.075691e+01</td>\n",
       "      <td>-7.397208e+01</td>\n",
       "      <td>3.952500e+04</td>\n",
       "      <td>1.991000e+03</td>\n",
       "      <td>1.000000e+00</td>\n",
       "    </tr>\n",
       "    <tr>\n",
       "      <th>max</th>\n",
       "      <td>2.946638e+06</td>\n",
       "      <td>3.891000e+03</td>\n",
       "      <td>4.081830e+01</td>\n",
       "      <td>-7.390448e+01</td>\n",
       "      <td>3.891000e+03</td>\n",
       "      <td>4.081830e+01</td>\n",
       "      <td>-7.390448e+01</td>\n",
       "      <td>4.206800e+04</td>\n",
       "      <td>2.003000e+03</td>\n",
       "      <td>2.000000e+00</td>\n",
       "    </tr>\n",
       "  </tbody>\n",
       "</table>\n",
       "</div>"
      ],
      "text/plain": [
       "       tripduration  start station id  start station latitude  \\\n",
       "count  2.092573e+06      2.092573e+06            2.092573e+06   \n",
       "mean   9.145827e+02      1.653142e+03            4.073810e+01   \n",
       "std    7.479508e+03      1.484445e+03            2.985665e-02   \n",
       "min    6.100000e+01      7.200000e+01            4.065540e+01   \n",
       "25%    3.700000e+02      3.790000e+02            4.071894e+01   \n",
       "50%    6.170000e+02      5.090000e+02            4.073913e+01   \n",
       "75%    1.054000e+03      3.300000e+03            4.075757e+01   \n",
       "max    2.946638e+06      3.891000e+03            4.081830e+01   \n",
       "\n",
       "       start station longitude  end station id  end station latitude  \\\n",
       "count             2.092573e+06    2.092573e+06          2.092573e+06   \n",
       "mean             -7.398199e+01    1.640030e+03          4.073765e+01   \n",
       "std               1.968598e-02    1.483445e+03          2.965020e-02   \n",
       "min              -7.402535e+01    7.200000e+01          4.065540e+01   \n",
       "25%              -7.399490e+01    3.770000e+02          4.071882e+01   \n",
       "50%              -7.398518e+01    5.070000e+02          4.073827e+01   \n",
       "75%              -7.397188e+01    3.298000e+03          4.075691e+01   \n",
       "max              -7.390448e+01    3.891000e+03          4.081830e+01   \n",
       "\n",
       "       end station longitude        bikeid    birth year        gender  \n",
       "count           2.092573e+06  2.092573e+06  2.092573e+06  2.092573e+06  \n",
       "mean           -7.398229e+01  3.168730e+04  1.980680e+03  1.171635e+00  \n",
       "std             1.980151e-02  8.305669e+03  1.219031e+01  5.376945e-01  \n",
       "min            -7.406250e+01  1.452900e+04  1.874000e+03  0.000000e+00  \n",
       "25%            -7.399530e+01  2.641900e+04  1.970000e+03  1.000000e+00  \n",
       "50%            -7.398602e+01  3.278400e+04  1.983000e+03  1.000000e+00  \n",
       "75%            -7.397208e+01  3.952500e+04  1.991000e+03  1.000000e+00  \n",
       "max            -7.390448e+01  4.206800e+04  2.003000e+03  2.000000e+00  "
      ]
     },
     "execution_count": 3,
     "metadata": {},
     "output_type": "execute_result"
    }
   ],
   "source": [
    "df.describe()"
   ]
  },
  {
   "cell_type": "code",
   "execution_count": 4,
   "metadata": {},
   "outputs": [
    {
     "data": {
      "text/plain": [
       "tripduration               2092573\n",
       "starttime                  2092573\n",
       "stoptime                   2092573\n",
       "start station id           2092573\n",
       "start station name         2092573\n",
       "start station latitude     2092573\n",
       "start station longitude    2092573\n",
       "end station id             2092573\n",
       "end station name           2092573\n",
       "end station latitude       2092573\n",
       "end station longitude      2092573\n",
       "bikeid                     2092573\n",
       "usertype                   2092573\n",
       "birth year                 2092573\n",
       "gender                     2092573\n",
       "dtype: int64"
      ]
     },
     "execution_count": 4,
     "metadata": {},
     "output_type": "execute_result"
    }
   ],
   "source": [
    "df.count()"
   ]
  },
  {
   "cell_type": "code",
   "execution_count": 5,
   "metadata": {},
   "outputs": [
    {
     "data": {
      "text/html": [
       "<div>\n",
       "<style scoped>\n",
       "    .dataframe tbody tr th:only-of-type {\n",
       "        vertical-align: middle;\n",
       "    }\n",
       "\n",
       "    .dataframe tbody tr th {\n",
       "        vertical-align: top;\n",
       "    }\n",
       "\n",
       "    .dataframe thead th {\n",
       "        text-align: right;\n",
       "    }\n",
       "</style>\n",
       "<table border=\"1\" class=\"dataframe\">\n",
       "  <thead>\n",
       "    <tr style=\"text-align: right;\">\n",
       "      <th></th>\n",
       "      <th>tripduration</th>\n",
       "      <th>starttime</th>\n",
       "      <th>stoptime</th>\n",
       "      <th>start station id</th>\n",
       "      <th>start station name</th>\n",
       "      <th>start station latitude</th>\n",
       "      <th>start station longitude</th>\n",
       "      <th>end station id</th>\n",
       "      <th>end station name</th>\n",
       "      <th>end station latitude</th>\n",
       "      <th>end station longitude</th>\n",
       "      <th>bikeid</th>\n",
       "      <th>usertype</th>\n",
       "      <th>birth year</th>\n",
       "      <th>gender</th>\n",
       "    </tr>\n",
       "  </thead>\n",
       "  <tbody>\n",
       "    <tr>\n",
       "      <th>0</th>\n",
       "      <td>527</td>\n",
       "      <td>2019-10-01 00:00:05.6180</td>\n",
       "      <td>2019-10-01 00:08:52.9430</td>\n",
       "      <td>3746</td>\n",
       "      <td>6 Ave &amp; Broome St</td>\n",
       "      <td>40.724308</td>\n",
       "      <td>-74.004730</td>\n",
       "      <td>223</td>\n",
       "      <td>W 13 St &amp; 7 Ave</td>\n",
       "      <td>40.737815</td>\n",
       "      <td>-73.999947</td>\n",
       "      <td>41750</td>\n",
       "      <td>Subscriber</td>\n",
       "      <td>1993</td>\n",
       "      <td>1</td>\n",
       "    </tr>\n",
       "    <tr>\n",
       "      <th>1</th>\n",
       "      <td>174</td>\n",
       "      <td>2019-10-01 00:00:15.8750</td>\n",
       "      <td>2019-10-01 00:03:10.1680</td>\n",
       "      <td>3301</td>\n",
       "      <td>Columbus Ave &amp; W 95 St</td>\n",
       "      <td>40.791956</td>\n",
       "      <td>-73.968087</td>\n",
       "      <td>3283</td>\n",
       "      <td>W 89 St &amp; Columbus Ave</td>\n",
       "      <td>40.788221</td>\n",
       "      <td>-73.970416</td>\n",
       "      <td>18264</td>\n",
       "      <td>Subscriber</td>\n",
       "      <td>1992</td>\n",
       "      <td>1</td>\n",
       "    </tr>\n",
       "    <tr>\n",
       "      <th>2</th>\n",
       "      <td>759</td>\n",
       "      <td>2019-10-01 00:00:19.8240</td>\n",
       "      <td>2019-10-01 00:12:59.7070</td>\n",
       "      <td>161</td>\n",
       "      <td>LaGuardia Pl &amp; W 3 St</td>\n",
       "      <td>40.729170</td>\n",
       "      <td>-73.998102</td>\n",
       "      <td>174</td>\n",
       "      <td>E 25 St &amp; 1 Ave</td>\n",
       "      <td>40.738177</td>\n",
       "      <td>-73.977387</td>\n",
       "      <td>25525</td>\n",
       "      <td>Subscriber</td>\n",
       "      <td>1995</td>\n",
       "      <td>1</td>\n",
       "    </tr>\n",
       "    <tr>\n",
       "      <th>3</th>\n",
       "      <td>615</td>\n",
       "      <td>2019-10-01 00:00:21.0680</td>\n",
       "      <td>2019-10-01 00:10:36.6790</td>\n",
       "      <td>254</td>\n",
       "      <td>W 11 St &amp; 6 Ave</td>\n",
       "      <td>40.735324</td>\n",
       "      <td>-73.998004</td>\n",
       "      <td>477</td>\n",
       "      <td>W 41 St &amp; 8 Ave</td>\n",
       "      <td>40.756405</td>\n",
       "      <td>-73.990026</td>\n",
       "      <td>30186</td>\n",
       "      <td>Subscriber</td>\n",
       "      <td>1992</td>\n",
       "      <td>1</td>\n",
       "    </tr>\n",
       "    <tr>\n",
       "      <th>4</th>\n",
       "      <td>761</td>\n",
       "      <td>2019-10-01 00:00:26.3800</td>\n",
       "      <td>2019-10-01 00:13:08.3130</td>\n",
       "      <td>161</td>\n",
       "      <td>LaGuardia Pl &amp; W 3 St</td>\n",
       "      <td>40.729170</td>\n",
       "      <td>-73.998102</td>\n",
       "      <td>174</td>\n",
       "      <td>E 25 St &amp; 1 Ave</td>\n",
       "      <td>40.738177</td>\n",
       "      <td>-73.977387</td>\n",
       "      <td>25597</td>\n",
       "      <td>Subscriber</td>\n",
       "      <td>1992</td>\n",
       "      <td>1</td>\n",
       "    </tr>\n",
       "  </tbody>\n",
       "</table>\n",
       "</div>"
      ],
      "text/plain": [
       "   tripduration                 starttime                  stoptime  \\\n",
       "0           527  2019-10-01 00:00:05.6180  2019-10-01 00:08:52.9430   \n",
       "1           174  2019-10-01 00:00:15.8750  2019-10-01 00:03:10.1680   \n",
       "2           759  2019-10-01 00:00:19.8240  2019-10-01 00:12:59.7070   \n",
       "3           615  2019-10-01 00:00:21.0680  2019-10-01 00:10:36.6790   \n",
       "4           761  2019-10-01 00:00:26.3800  2019-10-01 00:13:08.3130   \n",
       "\n",
       "   start station id      start station name  start station latitude  \\\n",
       "0              3746       6 Ave & Broome St               40.724308   \n",
       "1              3301  Columbus Ave & W 95 St               40.791956   \n",
       "2               161   LaGuardia Pl & W 3 St               40.729170   \n",
       "3               254         W 11 St & 6 Ave               40.735324   \n",
       "4               161   LaGuardia Pl & W 3 St               40.729170   \n",
       "\n",
       "   start station longitude  end station id        end station name  \\\n",
       "0               -74.004730             223         W 13 St & 7 Ave   \n",
       "1               -73.968087            3283  W 89 St & Columbus Ave   \n",
       "2               -73.998102             174         E 25 St & 1 Ave   \n",
       "3               -73.998004             477         W 41 St & 8 Ave   \n",
       "4               -73.998102             174         E 25 St & 1 Ave   \n",
       "\n",
       "   end station latitude  end station longitude  bikeid    usertype  \\\n",
       "0             40.737815             -73.999947   41750  Subscriber   \n",
       "1             40.788221             -73.970416   18264  Subscriber   \n",
       "2             40.738177             -73.977387   25525  Subscriber   \n",
       "3             40.756405             -73.990026   30186  Subscriber   \n",
       "4             40.738177             -73.977387   25597  Subscriber   \n",
       "\n",
       "   birth year  gender  \n",
       "0        1993       1  \n",
       "1        1992       1  \n",
       "2        1995       1  \n",
       "3        1992       1  \n",
       "4        1992       1  "
      ]
     },
     "execution_count": 5,
     "metadata": {},
     "output_type": "execute_result"
    }
   ],
   "source": [
    "df.head()"
   ]
  },
  {
   "cell_type": "code",
   "execution_count": 12,
   "metadata": {},
   "outputs": [],
   "source": [
    "tripminute = []"
   ]
  },
  {
   "cell_type": "code",
   "execution_count": 13,
   "metadata": {},
   "outputs": [],
   "source": [
    "for trip in df.tripduration:\n",
    "    tripminute.append(round(trip/60,3))"
   ]
  },
  {
   "cell_type": "code",
   "execution_count": 18,
   "metadata": {},
   "outputs": [
    {
     "data": {
      "text/plain": [
       "2092573"
      ]
     },
     "execution_count": 18,
     "metadata": {},
     "output_type": "execute_result"
    }
   ],
   "source": [
    "len(tripminute)"
   ]
  },
  {
   "cell_type": "code",
   "execution_count": 20,
   "metadata": {},
   "outputs": [],
   "source": [
    "df[\"tripduration\"] = tripminute"
   ]
  },
  {
   "cell_type": "code",
   "execution_count": 32,
   "metadata": {},
   "outputs": [],
   "source": [
    "gender = []"
   ]
  },
  {
   "cell_type": "code",
   "execution_count": 33,
   "metadata": {},
   "outputs": [],
   "source": [
    "for gen in df.gender:\n",
    "    if gen == 1:\n",
    "        gender.append(\"Male\")\n",
    "    elif gen == 2:\n",
    "        gender.append(\"Female\")\n",
    "    else:\n",
    "        gender.append(\"Unspecified\")"
   ]
  },
  {
   "cell_type": "code",
   "execution_count": 34,
   "metadata": {},
   "outputs": [
    {
     "data": {
      "text/plain": [
       "['Male', 'Male', 'Male', 'Male', 'Male']"
      ]
     },
     "execution_count": 34,
     "metadata": {},
     "output_type": "execute_result"
    }
   ],
   "source": [
    "gender[0:5]"
   ]
  },
  {
   "cell_type": "code",
   "execution_count": 35,
   "metadata": {},
   "outputs": [],
   "source": [
    "df.gender = gender"
   ]
  },
  {
   "cell_type": "code",
   "execution_count": 37,
   "metadata": {},
   "outputs": [],
   "source": [
    "generation = []"
   ]
  },
  {
   "cell_type": "code",
   "execution_count": 39,
   "metadata": {},
   "outputs": [],
   "source": [
    "for year in df[\"birth year\"]:\n",
    "    if year > 1994:\n",
    "        generation.append(\"Gen Z\")\n",
    "    elif year > 1979:\n",
    "        generation.append(\"Millennial\")\n",
    "    elif year > 1964:\n",
    "        generation.append(\"Gen X\")\n",
    "    elif year > 1943:\n",
    "        generation.append(\"Boomer\")\n",
    "    else:\n",
    "        generation.append(\"Greatest Generation\")"
   ]
  },
  {
   "cell_type": "code",
   "execution_count": 40,
   "metadata": {},
   "outputs": [
    {
     "data": {
      "text/plain": [
       "2092573"
      ]
     },
     "execution_count": 40,
     "metadata": {},
     "output_type": "execute_result"
    }
   ],
   "source": [
    "len(generation)"
   ]
  },
  {
   "cell_type": "code",
   "execution_count": 41,
   "metadata": {},
   "outputs": [
    {
     "data": {
      "text/plain": [
       "['Millennial',\n",
       " 'Millennial',\n",
       " 'Gen Z',\n",
       " 'Millennial',\n",
       " 'Millennial',\n",
       " 'Gen Z',\n",
       " 'Millennial',\n",
       " 'Millennial',\n",
       " 'Gen X']"
      ]
     },
     "execution_count": 41,
     "metadata": {},
     "output_type": "execute_result"
    }
   ],
   "source": [
    "generation[0:9]"
   ]
  },
  {
   "cell_type": "code",
   "execution_count": 42,
   "metadata": {},
   "outputs": [],
   "source": [
    "df[\"Generation\"] = generation"
   ]
  },
  {
   "cell_type": "code",
   "execution_count": 53,
   "metadata": {},
   "outputs": [
    {
     "data": {
      "text/html": [
       "<div>\n",
       "<style scoped>\n",
       "    .dataframe tbody tr th:only-of-type {\n",
       "        vertical-align: middle;\n",
       "    }\n",
       "\n",
       "    .dataframe tbody tr th {\n",
       "        vertical-align: top;\n",
       "    }\n",
       "\n",
       "    .dataframe thead th {\n",
       "        text-align: right;\n",
       "    }\n",
       "</style>\n",
       "<table border=\"1\" class=\"dataframe\">\n",
       "  <thead>\n",
       "    <tr style=\"text-align: right;\">\n",
       "      <th></th>\n",
       "      <th>tripduration</th>\n",
       "      <th>starttime</th>\n",
       "      <th>stoptime</th>\n",
       "      <th>start station id</th>\n",
       "      <th>start station name</th>\n",
       "      <th>start station latitude</th>\n",
       "      <th>start station longitude</th>\n",
       "      <th>end station id</th>\n",
       "      <th>end station name</th>\n",
       "      <th>end station latitude</th>\n",
       "      <th>end station longitude</th>\n",
       "      <th>bikeid</th>\n",
       "      <th>usertype</th>\n",
       "      <th>birth year</th>\n",
       "      <th>gender</th>\n",
       "      <th>Generation</th>\n",
       "    </tr>\n",
       "  </thead>\n",
       "  <tbody>\n",
       "    <tr>\n",
       "      <th>2066604</th>\n",
       "      <td>20.150</td>\n",
       "      <td>2019-10-31 15:59:01.2210</td>\n",
       "      <td>2019-10-31 16:19:10.6080</td>\n",
       "      <td>458</td>\n",
       "      <td>11 Ave &amp; W 27 St</td>\n",
       "      <td>40.751396</td>\n",
       "      <td>-74.005226</td>\n",
       "      <td>3178</td>\n",
       "      <td>Riverside Dr &amp; W 78 St</td>\n",
       "      <td>40.784145</td>\n",
       "      <td>-73.983625</td>\n",
       "      <td>32768</td>\n",
       "      <td>Subscriber</td>\n",
       "      <td>1874</td>\n",
       "      <td>Male</td>\n",
       "      <td>Greatest Generation</td>\n",
       "    </tr>\n",
       "    <tr>\n",
       "      <th>880581</th>\n",
       "      <td>8.450</td>\n",
       "      <td>2019-10-13 12:11:28.0800</td>\n",
       "      <td>2019-10-13 12:19:55.4830</td>\n",
       "      <td>3235</td>\n",
       "      <td>E 41 St &amp; Madison Ave</td>\n",
       "      <td>40.752165</td>\n",
       "      <td>-73.979922</td>\n",
       "      <td>2017</td>\n",
       "      <td>E 43 St &amp; 2 Ave</td>\n",
       "      <td>40.750224</td>\n",
       "      <td>-73.971214</td>\n",
       "      <td>40636</td>\n",
       "      <td>Subscriber</td>\n",
       "      <td>1885</td>\n",
       "      <td>Unspecified</td>\n",
       "      <td>Greatest Generation</td>\n",
       "    </tr>\n",
       "    <tr>\n",
       "      <th>797935</th>\n",
       "      <td>16.350</td>\n",
       "      <td>2019-10-12 09:12:45.6020</td>\n",
       "      <td>2019-10-12 09:29:06.6050</td>\n",
       "      <td>455</td>\n",
       "      <td>1 Ave &amp; E 44 St</td>\n",
       "      <td>40.750020</td>\n",
       "      <td>-73.969053</td>\n",
       "      <td>497</td>\n",
       "      <td>E 17 St &amp; Broadway</td>\n",
       "      <td>40.737050</td>\n",
       "      <td>-73.990093</td>\n",
       "      <td>15842</td>\n",
       "      <td>Subscriber</td>\n",
       "      <td>1885</td>\n",
       "      <td>Unspecified</td>\n",
       "      <td>Greatest Generation</td>\n",
       "    </tr>\n",
       "    <tr>\n",
       "      <th>42120</th>\n",
       "      <td>6.533</td>\n",
       "      <td>2019-10-01 15:17:24.5710</td>\n",
       "      <td>2019-10-01 15:23:57.4620</td>\n",
       "      <td>536</td>\n",
       "      <td>1 Ave &amp; E 30 St</td>\n",
       "      <td>40.741444</td>\n",
       "      <td>-73.975361</td>\n",
       "      <td>455</td>\n",
       "      <td>1 Ave &amp; E 44 St</td>\n",
       "      <td>40.750020</td>\n",
       "      <td>-73.969053</td>\n",
       "      <td>20951</td>\n",
       "      <td>Subscriber</td>\n",
       "      <td>1885</td>\n",
       "      <td>Unspecified</td>\n",
       "      <td>Greatest Generation</td>\n",
       "    </tr>\n",
       "    <tr>\n",
       "      <th>1697178</th>\n",
       "      <td>6.267</td>\n",
       "      <td>2019-10-25 12:06:13.2190</td>\n",
       "      <td>2019-10-25 12:12:29.8020</td>\n",
       "      <td>385</td>\n",
       "      <td>E 55 St &amp; 2 Ave</td>\n",
       "      <td>40.757973</td>\n",
       "      <td>-73.966033</td>\n",
       "      <td>2017</td>\n",
       "      <td>E 43 St &amp; 2 Ave</td>\n",
       "      <td>40.750224</td>\n",
       "      <td>-73.971214</td>\n",
       "      <td>21699</td>\n",
       "      <td>Subscriber</td>\n",
       "      <td>1885</td>\n",
       "      <td>Unspecified</td>\n",
       "      <td>Greatest Generation</td>\n",
       "    </tr>\n",
       "  </tbody>\n",
       "</table>\n",
       "</div>"
      ],
      "text/plain": [
       "         tripduration                 starttime                  stoptime  \\\n",
       "2066604        20.150  2019-10-31 15:59:01.2210  2019-10-31 16:19:10.6080   \n",
       "880581          8.450  2019-10-13 12:11:28.0800  2019-10-13 12:19:55.4830   \n",
       "797935         16.350  2019-10-12 09:12:45.6020  2019-10-12 09:29:06.6050   \n",
       "42120           6.533  2019-10-01 15:17:24.5710  2019-10-01 15:23:57.4620   \n",
       "1697178         6.267  2019-10-25 12:06:13.2190  2019-10-25 12:12:29.8020   \n",
       "\n",
       "         start station id     start station name  start station latitude  \\\n",
       "2066604               458       11 Ave & W 27 St               40.751396   \n",
       "880581               3235  E 41 St & Madison Ave               40.752165   \n",
       "797935                455        1 Ave & E 44 St               40.750020   \n",
       "42120                 536        1 Ave & E 30 St               40.741444   \n",
       "1697178               385        E 55 St & 2 Ave               40.757973   \n",
       "\n",
       "         start station longitude  end station id        end station name  \\\n",
       "2066604               -74.005226            3178  Riverside Dr & W 78 St   \n",
       "880581                -73.979922            2017         E 43 St & 2 Ave   \n",
       "797935                -73.969053             497      E 17 St & Broadway   \n",
       "42120                 -73.975361             455         1 Ave & E 44 St   \n",
       "1697178               -73.966033            2017         E 43 St & 2 Ave   \n",
       "\n",
       "         end station latitude  end station longitude  bikeid    usertype  \\\n",
       "2066604             40.784145             -73.983625   32768  Subscriber   \n",
       "880581              40.750224             -73.971214   40636  Subscriber   \n",
       "797935              40.737050             -73.990093   15842  Subscriber   \n",
       "42120               40.750020             -73.969053   20951  Subscriber   \n",
       "1697178             40.750224             -73.971214   21699  Subscriber   \n",
       "\n",
       "         birth year       gender           Generation  \n",
       "2066604        1874         Male  Greatest Generation  \n",
       "880581         1885  Unspecified  Greatest Generation  \n",
       "797935         1885  Unspecified  Greatest Generation  \n",
       "42120          1885  Unspecified  Greatest Generation  \n",
       "1697178        1885  Unspecified  Greatest Generation  "
      ]
     },
     "execution_count": 53,
     "metadata": {},
     "output_type": "execute_result"
    }
   ],
   "source": [
    "df.sort_values(by = \"birth year\").head()"
   ]
  },
  {
   "cell_type": "code",
   "execution_count": 55,
   "metadata": {},
   "outputs": [],
   "source": [
    "# pd.to_numeric(df['birth year'], errors='coerce')"
   ]
  },
  {
   "cell_type": "code",
   "execution_count": 56,
   "metadata": {},
   "outputs": [],
   "source": [
    "df.loc[df['birth year'] < 1930, 'birth year'] = np.nan"
   ]
  },
  {
   "cell_type": "code",
   "execution_count": 59,
   "metadata": {},
   "outputs": [
    {
     "data": {
      "text/html": [
       "<div>\n",
       "<style scoped>\n",
       "    .dataframe tbody tr th:only-of-type {\n",
       "        vertical-align: middle;\n",
       "    }\n",
       "\n",
       "    .dataframe tbody tr th {\n",
       "        vertical-align: top;\n",
       "    }\n",
       "\n",
       "    .dataframe thead th {\n",
       "        text-align: right;\n",
       "    }\n",
       "</style>\n",
       "<table border=\"1\" class=\"dataframe\">\n",
       "  <thead>\n",
       "    <tr style=\"text-align: right;\">\n",
       "      <th></th>\n",
       "      <th>tripduration</th>\n",
       "      <th>starttime</th>\n",
       "      <th>stoptime</th>\n",
       "      <th>start station id</th>\n",
       "      <th>start station name</th>\n",
       "      <th>start station latitude</th>\n",
       "      <th>start station longitude</th>\n",
       "      <th>end station id</th>\n",
       "      <th>end station name</th>\n",
       "      <th>end station latitude</th>\n",
       "      <th>end station longitude</th>\n",
       "      <th>bikeid</th>\n",
       "      <th>usertype</th>\n",
       "      <th>birth year</th>\n",
       "      <th>gender</th>\n",
       "      <th>Generation</th>\n",
       "    </tr>\n",
       "  </thead>\n",
       "  <tbody>\n",
       "    <tr>\n",
       "      <th>42479</th>\n",
       "      <td>49110.633</td>\n",
       "      <td>2019-10-01 15:22:01.0670</td>\n",
       "      <td>2019-11-04 16:52:39.8230</td>\n",
       "      <td>519</td>\n",
       "      <td>Pershing Square North</td>\n",
       "      <td>40.751873</td>\n",
       "      <td>-73.977706</td>\n",
       "      <td>270</td>\n",
       "      <td>Adelphi St &amp; Myrtle Ave</td>\n",
       "      <td>40.693083</td>\n",
       "      <td>-73.971789</td>\n",
       "      <td>40515</td>\n",
       "      <td>Customer</td>\n",
       "      <td>1969.0</td>\n",
       "      <td>Unspecified</td>\n",
       "      <td>Gen X</td>\n",
       "    </tr>\n",
       "    <tr>\n",
       "      <th>132013</th>\n",
       "      <td>43611.667</td>\n",
       "      <td>2019-10-02 15:19:24.2840</td>\n",
       "      <td>2019-11-01 22:11:04.7600</td>\n",
       "      <td>334</td>\n",
       "      <td>W 20 St &amp; 7 Ave</td>\n",
       "      <td>40.742388</td>\n",
       "      <td>-73.997262</td>\n",
       "      <td>540</td>\n",
       "      <td>Lexington Ave &amp; E 29 St</td>\n",
       "      <td>40.743116</td>\n",
       "      <td>-73.982154</td>\n",
       "      <td>25079</td>\n",
       "      <td>Subscriber</td>\n",
       "      <td>1990.0</td>\n",
       "      <td>Male</td>\n",
       "      <td>Millennial</td>\n",
       "    </tr>\n",
       "    <tr>\n",
       "      <th>383859</th>\n",
       "      <td>41554.417</td>\n",
       "      <td>2019-10-06 13:41:34.9840</td>\n",
       "      <td>2019-11-04 09:16:00.5480</td>\n",
       "      <td>3697</td>\n",
       "      <td>W 64 St &amp; Thelonious Monk Circle</td>\n",
       "      <td>40.775160</td>\n",
       "      <td>-73.989187</td>\n",
       "      <td>3502</td>\n",
       "      <td>Lexington Ave &amp; E 111 St</td>\n",
       "      <td>40.795412</td>\n",
       "      <td>-73.944123</td>\n",
       "      <td>31512</td>\n",
       "      <td>Customer</td>\n",
       "      <td>1969.0</td>\n",
       "      <td>Unspecified</td>\n",
       "      <td>Gen X</td>\n",
       "    </tr>\n",
       "    <tr>\n",
       "      <th>300921</th>\n",
       "      <td>40298.400</td>\n",
       "      <td>2019-10-05 10:39:26.1850</td>\n",
       "      <td>2019-11-02 10:17:50.4150</td>\n",
       "      <td>3059</td>\n",
       "      <td>Pulaski St &amp; Marcus Garvey Blvd</td>\n",
       "      <td>40.693398</td>\n",
       "      <td>-73.939877</td>\n",
       "      <td>3047</td>\n",
       "      <td>Halsey St &amp; Tompkins Ave</td>\n",
       "      <td>40.682369</td>\n",
       "      <td>-73.944118</td>\n",
       "      <td>38367</td>\n",
       "      <td>Customer</td>\n",
       "      <td>1969.0</td>\n",
       "      <td>Unspecified</td>\n",
       "      <td>Gen X</td>\n",
       "    </tr>\n",
       "    <tr>\n",
       "      <th>86193</th>\n",
       "      <td>34255.900</td>\n",
       "      <td>2019-10-01 23:16:06.0020</td>\n",
       "      <td>2019-10-25 18:12:00.4160</td>\n",
       "      <td>3518</td>\n",
       "      <td>Lenox Ave &amp; W 126 St</td>\n",
       "      <td>40.808442</td>\n",
       "      <td>-73.945209</td>\n",
       "      <td>3400</td>\n",
       "      <td>E 110 St &amp; Madison Ave</td>\n",
       "      <td>40.796153</td>\n",
       "      <td>-73.947821</td>\n",
       "      <td>30165</td>\n",
       "      <td>Subscriber</td>\n",
       "      <td>1979.0</td>\n",
       "      <td>Female</td>\n",
       "      <td>Gen X</td>\n",
       "    </tr>\n",
       "  </tbody>\n",
       "</table>\n",
       "</div>"
      ],
      "text/plain": [
       "        tripduration                 starttime                  stoptime  \\\n",
       "42479      49110.633  2019-10-01 15:22:01.0670  2019-11-04 16:52:39.8230   \n",
       "132013     43611.667  2019-10-02 15:19:24.2840  2019-11-01 22:11:04.7600   \n",
       "383859     41554.417  2019-10-06 13:41:34.9840  2019-11-04 09:16:00.5480   \n",
       "300921     40298.400  2019-10-05 10:39:26.1850  2019-11-02 10:17:50.4150   \n",
       "86193      34255.900  2019-10-01 23:16:06.0020  2019-10-25 18:12:00.4160   \n",
       "\n",
       "        start station id                start station name  \\\n",
       "42479                519             Pershing Square North   \n",
       "132013               334                   W 20 St & 7 Ave   \n",
       "383859              3697  W 64 St & Thelonious Monk Circle   \n",
       "300921              3059   Pulaski St & Marcus Garvey Blvd   \n",
       "86193               3518              Lenox Ave & W 126 St   \n",
       "\n",
       "        start station latitude  start station longitude  end station id  \\\n",
       "42479                40.751873               -73.977706             270   \n",
       "132013               40.742388               -73.997262             540   \n",
       "383859               40.775160               -73.989187            3502   \n",
       "300921               40.693398               -73.939877            3047   \n",
       "86193                40.808442               -73.945209            3400   \n",
       "\n",
       "                end station name  end station latitude  end station longitude  \\\n",
       "42479    Adelphi St & Myrtle Ave             40.693083             -73.971789   \n",
       "132013   Lexington Ave & E 29 St             40.743116             -73.982154   \n",
       "383859  Lexington Ave & E 111 St             40.795412             -73.944123   \n",
       "300921  Halsey St & Tompkins Ave             40.682369             -73.944118   \n",
       "86193     E 110 St & Madison Ave             40.796153             -73.947821   \n",
       "\n",
       "        bikeid    usertype  birth year       gender  Generation  \n",
       "42479    40515    Customer      1969.0  Unspecified       Gen X  \n",
       "132013   25079  Subscriber      1990.0         Male  Millennial  \n",
       "383859   31512    Customer      1969.0  Unspecified       Gen X  \n",
       "300921   38367    Customer      1969.0  Unspecified       Gen X  \n",
       "86193    30165  Subscriber      1979.0       Female       Gen X  "
      ]
     },
     "execution_count": 59,
     "metadata": {},
     "output_type": "execute_result"
    }
   ],
   "source": [
    "df.sort_values(by = \"tripduration\", ascending = False).head()"
   ]
  },
  {
   "cell_type": "code",
   "execution_count": 61,
   "metadata": {},
   "outputs": [
    {
     "data": {
      "text/plain": [
       "pandas.core.series.Series"
      ]
     },
     "execution_count": 61,
     "metadata": {},
     "output_type": "execute_result"
    }
   ],
   "source": [
    "type(df['birth year'])"
   ]
  },
  {
   "cell_type": "code",
   "execution_count": 62,
   "metadata": {},
   "outputs": [],
   "source": [
    "df.loc[df['tripduration'] > 120, 'tripduration'] = np.nan"
   ]
  },
  {
   "cell_type": "code",
   "execution_count": 64,
   "metadata": {},
   "outputs": [
    {
     "data": {
      "text/plain": [
       "120.0"
      ]
     },
     "execution_count": 64,
     "metadata": {},
     "output_type": "execute_result"
    }
   ],
   "source": [
    "df.tripduration.max()"
   ]
  },
  {
   "cell_type": "code",
   "execution_count": 66,
   "metadata": {},
   "outputs": [
    {
     "data": {
      "text/html": [
       "<div>\n",
       "<style scoped>\n",
       "    .dataframe tbody tr th:only-of-type {\n",
       "        vertical-align: middle;\n",
       "    }\n",
       "\n",
       "    .dataframe tbody tr th {\n",
       "        vertical-align: top;\n",
       "    }\n",
       "\n",
       "    .dataframe thead th {\n",
       "        text-align: right;\n",
       "    }\n",
       "</style>\n",
       "<table border=\"1\" class=\"dataframe\">\n",
       "  <thead>\n",
       "    <tr style=\"text-align: right;\">\n",
       "      <th></th>\n",
       "      <th>tripduration</th>\n",
       "      <th>starttime</th>\n",
       "      <th>stoptime</th>\n",
       "      <th>start station id</th>\n",
       "      <th>start station name</th>\n",
       "      <th>start station latitude</th>\n",
       "      <th>start station longitude</th>\n",
       "      <th>end station id</th>\n",
       "      <th>end station name</th>\n",
       "      <th>end station latitude</th>\n",
       "      <th>end station longitude</th>\n",
       "      <th>bikeid</th>\n",
       "      <th>usertype</th>\n",
       "      <th>birth year</th>\n",
       "      <th>gender</th>\n",
       "      <th>Generation</th>\n",
       "    </tr>\n",
       "  </thead>\n",
       "  <tbody>\n",
       "    <tr>\n",
       "      <th>1244304</th>\n",
       "      <td>120.000</td>\n",
       "      <td>2019-10-18 15:54:39.5210</td>\n",
       "      <td>2019-10-18 17:54:39.5220</td>\n",
       "      <td>3525</td>\n",
       "      <td>23 Ave &amp; 27 St</td>\n",
       "      <td>40.776165</td>\n",
       "      <td>-73.915318</td>\n",
       "      <td>3598</td>\n",
       "      <td>Newton Rd &amp; 44 St</td>\n",
       "      <td>40.759570</td>\n",
       "      <td>-73.914268</td>\n",
       "      <td>20231</td>\n",
       "      <td>Customer</td>\n",
       "      <td>1969.0</td>\n",
       "      <td>Unspecified</td>\n",
       "      <td>Gen X</td>\n",
       "    </tr>\n",
       "    <tr>\n",
       "      <th>840261</th>\n",
       "      <td>119.983</td>\n",
       "      <td>2019-10-12 17:03:20.0560</td>\n",
       "      <td>2019-10-12 19:03:19.3060</td>\n",
       "      <td>388</td>\n",
       "      <td>W 26 St &amp; 10 Ave</td>\n",
       "      <td>40.749718</td>\n",
       "      <td>-74.002950</td>\n",
       "      <td>388</td>\n",
       "      <td>W 26 St &amp; 10 Ave</td>\n",
       "      <td>40.749718</td>\n",
       "      <td>-74.002950</td>\n",
       "      <td>40402</td>\n",
       "      <td>Subscriber</td>\n",
       "      <td>1981.0</td>\n",
       "      <td>Male</td>\n",
       "      <td>Millennial</td>\n",
       "    </tr>\n",
       "    <tr>\n",
       "      <th>677680</th>\n",
       "      <td>119.933</td>\n",
       "      <td>2019-10-10 16:58:20.2340</td>\n",
       "      <td>2019-10-10 18:58:17.1920</td>\n",
       "      <td>501</td>\n",
       "      <td>FDR Drive &amp; E 35 St</td>\n",
       "      <td>40.744219</td>\n",
       "      <td>-73.971212</td>\n",
       "      <td>315</td>\n",
       "      <td>South St &amp; Gouverneur Ln</td>\n",
       "      <td>40.703554</td>\n",
       "      <td>-74.006702</td>\n",
       "      <td>29077</td>\n",
       "      <td>Customer</td>\n",
       "      <td>1969.0</td>\n",
       "      <td>Unspecified</td>\n",
       "      <td>Gen X</td>\n",
       "    </tr>\n",
       "    <tr>\n",
       "      <th>1972854</th>\n",
       "      <td>119.900</td>\n",
       "      <td>2019-10-29 22:32:42.6870</td>\n",
       "      <td>2019-10-30 00:32:37.0070</td>\n",
       "      <td>285</td>\n",
       "      <td>Broadway &amp; E 14 St</td>\n",
       "      <td>40.734546</td>\n",
       "      <td>-73.990741</td>\n",
       "      <td>490</td>\n",
       "      <td>8 Ave &amp; W 33 St</td>\n",
       "      <td>40.751551</td>\n",
       "      <td>-73.993934</td>\n",
       "      <td>31259</td>\n",
       "      <td>Customer</td>\n",
       "      <td>1969.0</td>\n",
       "      <td>Unspecified</td>\n",
       "      <td>Gen X</td>\n",
       "    </tr>\n",
       "    <tr>\n",
       "      <th>738261</th>\n",
       "      <td>119.867</td>\n",
       "      <td>2019-10-11 11:19:34.4470</td>\n",
       "      <td>2019-10-11 13:19:27.0990</td>\n",
       "      <td>312</td>\n",
       "      <td>Allen St &amp; Stanton St</td>\n",
       "      <td>40.722055</td>\n",
       "      <td>-73.989111</td>\n",
       "      <td>3812</td>\n",
       "      <td>University Pl &amp; E 14 St</td>\n",
       "      <td>40.734814</td>\n",
       "      <td>-73.992085</td>\n",
       "      <td>20621</td>\n",
       "      <td>Customer</td>\n",
       "      <td>1969.0</td>\n",
       "      <td>Unspecified</td>\n",
       "      <td>Gen X</td>\n",
       "    </tr>\n",
       "  </tbody>\n",
       "</table>\n",
       "</div>"
      ],
      "text/plain": [
       "         tripduration                 starttime                  stoptime  \\\n",
       "1244304       120.000  2019-10-18 15:54:39.5210  2019-10-18 17:54:39.5220   \n",
       "840261        119.983  2019-10-12 17:03:20.0560  2019-10-12 19:03:19.3060   \n",
       "677680        119.933  2019-10-10 16:58:20.2340  2019-10-10 18:58:17.1920   \n",
       "1972854       119.900  2019-10-29 22:32:42.6870  2019-10-30 00:32:37.0070   \n",
       "738261        119.867  2019-10-11 11:19:34.4470  2019-10-11 13:19:27.0990   \n",
       "\n",
       "         start station id     start station name  start station latitude  \\\n",
       "1244304              3525         23 Ave & 27 St               40.776165   \n",
       "840261                388       W 26 St & 10 Ave               40.749718   \n",
       "677680                501    FDR Drive & E 35 St               40.744219   \n",
       "1972854               285     Broadway & E 14 St               40.734546   \n",
       "738261                312  Allen St & Stanton St               40.722055   \n",
       "\n",
       "         start station longitude  end station id          end station name  \\\n",
       "1244304               -73.915318            3598         Newton Rd & 44 St   \n",
       "840261                -74.002950             388          W 26 St & 10 Ave   \n",
       "677680                -73.971212             315  South St & Gouverneur Ln   \n",
       "1972854               -73.990741             490           8 Ave & W 33 St   \n",
       "738261                -73.989111            3812   University Pl & E 14 St   \n",
       "\n",
       "         end station latitude  end station longitude  bikeid    usertype  \\\n",
       "1244304             40.759570             -73.914268   20231    Customer   \n",
       "840261              40.749718             -74.002950   40402  Subscriber   \n",
       "677680              40.703554             -74.006702   29077    Customer   \n",
       "1972854             40.751551             -73.993934   31259    Customer   \n",
       "738261              40.734814             -73.992085   20621    Customer   \n",
       "\n",
       "         birth year       gender  Generation  \n",
       "1244304      1969.0  Unspecified       Gen X  \n",
       "840261       1981.0         Male  Millennial  \n",
       "677680       1969.0  Unspecified       Gen X  \n",
       "1972854      1969.0  Unspecified       Gen X  \n",
       "738261       1969.0  Unspecified       Gen X  "
      ]
     },
     "execution_count": 66,
     "metadata": {},
     "output_type": "execute_result"
    }
   ],
   "source": [
    "df.sort_values(by = \"tripduration\", ascending = False).head()"
   ]
  },
  {
   "cell_type": "code",
   "execution_count": 71,
   "metadata": {},
   "outputs": [],
   "source": [
    "df = df.dropna()"
   ]
  },
  {
   "cell_type": "code",
   "execution_count": 72,
   "metadata": {},
   "outputs": [
    {
     "data": {
      "text/plain": [
       "tripduration               2086694\n",
       "starttime                  2086694\n",
       "stoptime                   2086694\n",
       "start station id           2086694\n",
       "start station name         2086694\n",
       "start station latitude     2086694\n",
       "start station longitude    2086694\n",
       "end station id             2086694\n",
       "end station name           2086694\n",
       "end station latitude       2086694\n",
       "end station longitude      2086694\n",
       "bikeid                     2086694\n",
       "usertype                   2086694\n",
       "birth year                 2086694\n",
       "gender                     2086694\n",
       "Generation                 2086694\n",
       "dtype: int64"
      ]
     },
     "execution_count": 72,
     "metadata": {},
     "output_type": "execute_result"
    }
   ],
   "source": [
    "df.count()"
   ]
  },
  {
   "cell_type": "code",
   "execution_count": 73,
   "metadata": {},
   "outputs": [
    {
     "data": {
      "text/plain": [
       "count        2086694\n",
       "unique             2\n",
       "top       Subscriber\n",
       "freq         1794393\n",
       "Name: usertype, dtype: object"
      ]
     },
     "execution_count": 73,
     "metadata": {},
     "output_type": "execute_result"
    }
   ],
   "source": [
    "df.usertype.describe()"
   ]
  },
  {
   "cell_type": "code",
   "execution_count": 74,
   "metadata": {},
   "outputs": [
    {
     "data": {
      "text/plain": [
       "count     2086694\n",
       "unique          3\n",
       "top          Male\n",
       "freq      1423485\n",
       "Name: gender, dtype: object"
      ]
     },
     "execution_count": 74,
     "metadata": {},
     "output_type": "execute_result"
    }
   ],
   "source": [
    "df.gender.describe()"
   ]
  },
  {
   "cell_type": "code",
   "execution_count": 75,
   "metadata": {},
   "outputs": [
    {
     "data": {
      "text/plain": [
       "count        2086694\n",
       "unique             5\n",
       "top       Millennial\n",
       "freq         1030994\n",
       "Name: Generation, dtype: object"
      ]
     },
     "execution_count": 75,
     "metadata": {},
     "output_type": "execute_result"
    }
   ],
   "source": [
    "df.Generation.describe()"
   ]
  },
  {
   "cell_type": "code",
   "execution_count": 76,
   "metadata": {},
   "outputs": [],
   "source": [
    "df.rename(columns = {\"Generation\": \"generation\"}, inplace = True)"
   ]
  },
  {
   "cell_type": "code",
   "execution_count": 78,
   "metadata": {},
   "outputs": [],
   "source": [
    "df.to_csv(\"citibike.csv\", index = False)"
   ]
  },
  {
   "cell_type": "code",
   "execution_count": null,
   "metadata": {},
   "outputs": [],
   "source": []
  }
 ],
 "metadata": {
  "kernelspec": {
   "display_name": "Python 3",
   "language": "python",
   "name": "python3"
  },
  "language_info": {
   "codemirror_mode": {
    "name": "ipython",
    "version": 3
   },
   "file_extension": ".py",
   "mimetype": "text/x-python",
   "name": "python",
   "nbconvert_exporter": "python",
   "pygments_lexer": "ipython3",
   "version": "3.6.8"
  }
 },
 "nbformat": 4,
 "nbformat_minor": 2
}
